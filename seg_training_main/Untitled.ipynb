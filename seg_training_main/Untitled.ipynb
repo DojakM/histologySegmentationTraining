{
 "cells": [
  {
   "cell_type": "code",
   "execution_count": 5,
   "id": "9d1f0486",
   "metadata": {},
   "outputs": [],
   "source": [
    "import tifffile\n",
    "import glob"
   ]
  },
  {
   "cell_type": "code",
   "execution_count": 10,
   "id": "7b95f491",
   "metadata": {},
   "outputs": [],
   "source": [
    "llist = glob.glob(\"./data/OME-TIFFs/*\")\n",
    "tiff = tifffile.TiffReader(llist[0])"
   ]
  },
  {
   "cell_type": "code",
   "execution_count": 13,
   "id": "93c8f173",
   "metadata": {},
   "outputs": [
    {
     "data": {
      "text/plain": [
       "array([[[112., 112., 126., ..., 144., 154., 163.],\n",
       "        [110., 104., 113., ..., 140., 153., 169.],\n",
       "        [114., 105., 102., ..., 137., 155., 175.],\n",
       "        ...,\n",
       "        [207., 197., 194., ..., 124., 115., 111.],\n",
       "        [195., 187., 193., ..., 116., 108., 107.],\n",
       "        [192., 180., 191., ..., 111., 101.,  99.]],\n",
       "\n",
       "       [[ 46.,  43.,  51., ...,  61.,  69.,  73.],\n",
       "        [ 48.,  40.,  43., ...,  58.,  65.,  73.],\n",
       "        [ 50.,  39.,  32., ...,  53.,  63.,  75.],\n",
       "        ...,\n",
       "        [ 83.,  70.,  66., ...,  54.,  53.,  47.],\n",
       "        [ 68.,  59.,  63., ...,  46.,  46.,  45.],\n",
       "        [ 64.,  50.,  57., ...,  42.,  41.,  39.]],\n",
       "\n",
       "       [[133., 132., 142., ..., 149., 154., 160.],\n",
       "        [134., 127., 132., ..., 143., 151., 160.],\n",
       "        [137., 127., 121., ..., 139., 148., 161.],\n",
       "        ...,\n",
       "        [169., 157., 151., ..., 142., 138., 134.],\n",
       "        [155., 146., 151., ..., 135., 132., 131.],\n",
       "        [151., 138., 146., ..., 133., 129., 125.]],\n",
       "\n",
       "       [[  0.,   0.,   0., ...,   0.,   0.,   0.],\n",
       "        [  0.,   0.,   2., ...,   0.,   0.,   0.],\n",
       "        [  0.,   2.,   2., ...,   0.,   0.,   0.],\n",
       "        ...,\n",
       "        [  0.,   0.,   0., ...,   2.,   2.,   2.],\n",
       "        [  0.,   0.,   0., ...,   2.,   2.,   2.],\n",
       "        [  0.,   0.,   0., ...,   2.,   2.,   2.]]])"
      ]
     },
     "execution_count": 13,
     "metadata": {},
     "output_type": "execute_result"
    }
   ],
   "source": [
    "tiff.asarray()"
   ]
  },
  {
   "cell_type": "code",
   "execution_count": 16,
   "id": "a105c5f8",
   "metadata": {},
   "outputs": [
    {
     "data": {
      "text/plain": [
       "array([[0., 0., 0., ..., 0., 0., 0.],\n",
       "       [0., 0., 2., ..., 0., 0., 0.],\n",
       "       [0., 2., 2., ..., 0., 0., 0.],\n",
       "       ...,\n",
       "       [0., 0., 0., ..., 2., 2., 2.],\n",
       "       [0., 0., 0., ..., 2., 2., 2.],\n",
       "       [0., 0., 0., ..., 2., 2., 2.]])"
      ]
     },
     "execution_count": 16,
     "metadata": {},
     "output_type": "execute_result"
    }
   ],
   "source": [
    "tifffile.imread(llist[0])[3,:,:]"
   ]
  },
  {
   "cell_type": "code",
   "execution_count": null,
   "id": "e74a80bc",
   "metadata": {},
   "outputs": [],
   "source": []
  }
 ],
 "metadata": {
  "kernelspec": {
   "display_name": "Python 3 (ipykernel)",
   "language": "python",
   "name": "python3"
  },
  "language_info": {
   "codemirror_mode": {
    "name": "ipython",
    "version": 3
   },
   "file_extension": ".py",
   "mimetype": "text/x-python",
   "name": "python",
   "nbconvert_exporter": "python",
   "pygments_lexer": "ipython3",
   "version": "3.7.13"
  }
 },
 "nbformat": 4,
 "nbformat_minor": 5
}
